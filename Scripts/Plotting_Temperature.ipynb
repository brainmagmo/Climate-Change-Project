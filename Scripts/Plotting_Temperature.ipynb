{
 "cells": [
  {
   "cell_type": "code",
   "execution_count": 1,
   "metadata": {},
   "outputs": [
    {
     "data": {
      "text/plain": [
       "['clean_energy_consumption_data.csv',\n",
       " 'coal_consumption.csv',\n",
       " 'disasters.csv',\n",
       " 'duplicated_spellings.csv',\n",
       " 'Global_Consumption_and_Temperature.csv',\n",
       " 'natural_gas_consumption.csv',\n",
       " 'nuclear_consumption.csv',\n",
       " 'Passenger use by year.csv',\n",
       " 'petroleum_consumption.csv',\n",
       " 'population_density_clean.csv',\n",
       " 'Temperature_Delta_1986 to 2016.csv',\n",
       " 'total_consumption.csv']"
      ]
     },
     "execution_count": 1,
     "metadata": {},
     "output_type": "execute_result"
    }
   ],
   "source": [
    "'''\n",
    "Trevor Kleinstuber\n",
    "'''\n",
    "\n",
    "import os\n",
    "import pandas as pd\n",
    "import matplotlib.pyplot as plt\n",
    "\n",
    "directory = '../Cleaned Data/'\n",
    "files = os.listdir(directory)\n",
    "data_files = []\n",
    "\n",
    "for file in files:\n",
    "    if file[-4:] == '.csv':\n",
    "        data_files.append(file)\n",
    "        \n",
    "data_files"
   ]
  },
  {
   "cell_type": "code",
   "execution_count": 2,
   "metadata": {},
   "outputs": [
    {
     "name": "stdout",
     "output_type": "stream",
     "text": [
      "clean_energy_consumption_data.csv\n",
      "coal_consumption.csv\n",
      "disasters.csv\n",
      "duplicated_spellings.csv\n",
      "Global_Consumption_and_Temperature.csv\n",
      "natural_gas_consumption.csv\n",
      "nuclear_consumption.csv\n",
      "Passenger use by year.csv\n",
      "petroleum_consumption.csv\n",
      "population_density_clean.csv\n",
      "Temperature_Delta_1986 to 2016.csv\n",
      "total_consumption.csv\n"
     ]
    }
   ],
   "source": [
    "data_dfs = []\n",
    "for data_file in data_files:\n",
    "    data_dfs.append(\n",
    "        pd.read_csv(directory + data_file)\n",
    "    )\n",
    "    print(data_file)\n",
    " "
   ]
  },
  {
   "cell_type": "code",
   "execution_count": 3,
   "metadata": {},
   "outputs": [
    {
     "data": {
      "text/html": [
       "<div>\n",
       "<style scoped>\n",
       "    .dataframe tbody tr th:only-of-type {\n",
       "        vertical-align: middle;\n",
       "    }\n",
       "\n",
       "    .dataframe tbody tr th {\n",
       "        vertical-align: top;\n",
       "    }\n",
       "\n",
       "    .dataframe thead th {\n",
       "        text-align: right;\n",
       "    }\n",
       "</style>\n",
       "<table border=\"1\" class=\"dataframe\">\n",
       "  <thead>\n",
       "    <tr style=\"text-align: right;\">\n",
       "      <th></th>\n",
       "      <th>total energy consumption (quad Btu)</th>\n",
       "      <th>1986</th>\n",
       "      <th>1987</th>\n",
       "      <th>1988</th>\n",
       "      <th>1989</th>\n",
       "      <th>1990</th>\n",
       "      <th>1991</th>\n",
       "      <th>1992</th>\n",
       "      <th>1993</th>\n",
       "      <th>1994</th>\n",
       "      <th>...</th>\n",
       "      <th>2007</th>\n",
       "      <th>2008</th>\n",
       "      <th>2009</th>\n",
       "      <th>2010</th>\n",
       "      <th>2011</th>\n",
       "      <th>2012</th>\n",
       "      <th>2013</th>\n",
       "      <th>2014</th>\n",
       "      <th>2015</th>\n",
       "      <th>2016</th>\n",
       "    </tr>\n",
       "  </thead>\n",
       "  <tbody>\n",
       "    <tr>\n",
       "      <th>0</th>\n",
       "      <td>World</td>\n",
       "      <td>324.5344016</td>\n",
       "      <td>334.5932663</td>\n",
       "      <td>347.6354523</td>\n",
       "      <td>352.3576472</td>\n",
       "      <td>358.9595455</td>\n",
       "      <td>352.2644272</td>\n",
       "      <td>351.0744285</td>\n",
       "      <td>353.9732567</td>\n",
       "      <td>357.8829972</td>\n",
       "      <td>...</td>\n",
       "      <td>493.091062</td>\n",
       "      <td>499.6972405</td>\n",
       "      <td>494.3132499</td>\n",
       "      <td>523.725112</td>\n",
       "      <td>538.7016471</td>\n",
       "      <td>550.8484054</td>\n",
       "      <td>561.7706158</td>\n",
       "      <td>567.0296292</td>\n",
       "      <td>570.0615279</td>\n",
       "      <td>573.9508257</td>\n",
       "    </tr>\n",
       "    <tr>\n",
       "      <th>1</th>\n",
       "      <td>Afghanistan</td>\n",
       "      <td>0.039111199</td>\n",
       "      <td>0.063065158</td>\n",
       "      <td>0.111220787</td>\n",
       "      <td>0.109364539</td>\n",
       "      <td>0.108320341</td>\n",
       "      <td>0.047438198</td>\n",
       "      <td>0.031281766</td>\n",
       "      <td>0.031068733</td>\n",
       "      <td>0.030081109</td>\n",
       "      <td>...</td>\n",
       "      <td>0.034254709</td>\n",
       "      <td>0.058526483</td>\n",
       "      <td>0.095348795</td>\n",
       "      <td>0.118538529</td>\n",
       "      <td>0.161050802</td>\n",
       "      <td>0.147607649</td>\n",
       "      <td>0.124017682</td>\n",
       "      <td>0.113619521</td>\n",
       "      <td>0.125483137</td>\n",
       "      <td>0.117133389</td>\n",
       "    </tr>\n",
       "    <tr>\n",
       "      <th>2</th>\n",
       "      <td>Albania</td>\n",
       "      <td>0.166075365</td>\n",
       "      <td>0.166640543</td>\n",
       "      <td>0.168590876</td>\n",
       "      <td>0.160340585</td>\n",
       "      <td>0.114845298</td>\n",
       "      <td>0.096323694</td>\n",
       "      <td>0.084191203</td>\n",
       "      <td>0.073833402</td>\n",
       "      <td>0.070178183</td>\n",
       "      <td>...</td>\n",
       "      <td>0.09682504</td>\n",
       "      <td>0.105744823</td>\n",
       "      <td>0.115070874</td>\n",
       "      <td>0.128327344</td>\n",
       "      <td>0.105875204</td>\n",
       "      <td>0.104431132</td>\n",
       "      <td>0.127732976</td>\n",
       "      <td>0.116326405</td>\n",
       "      <td>0.116576406</td>\n",
       "      <td>0.12436058</td>\n",
       "    </tr>\n",
       "    <tr>\n",
       "      <th>3</th>\n",
       "      <td>Algeria</td>\n",
       "      <td>1.073661264</td>\n",
       "      <td>1.148639374</td>\n",
       "      <td>1.222947634</td>\n",
       "      <td>1.18021525</td>\n",
       "      <td>1.212354841</td>\n",
       "      <td>1.354444964</td>\n",
       "      <td>1.30211942</td>\n",
       "      <td>1.197210337</td>\n",
       "      <td>1.233072137</td>\n",
       "      <td>...</td>\n",
       "      <td>1.558107806</td>\n",
       "      <td>1.68592524</td>\n",
       "      <td>1.783379231</td>\n",
       "      <td>1.777793483</td>\n",
       "      <td>1.938981898</td>\n",
       "      <td>2.099941293</td>\n",
       "      <td>2.039276069</td>\n",
       "      <td>2.30202481</td>\n",
       "      <td>2.354764812</td>\n",
       "      <td>2.337093871</td>\n",
       "    </tr>\n",
       "    <tr>\n",
       "      <th>4</th>\n",
       "      <td>American Samoa</td>\n",
       "      <td>0.006716584</td>\n",
       "      <td>0.006973009</td>\n",
       "      <td>0.006778814</td>\n",
       "      <td>0.007806191</td>\n",
       "      <td>0.008210538</td>\n",
       "      <td>0.008210538</td>\n",
       "      <td>0.008445519</td>\n",
       "      <td>0.008216196</td>\n",
       "      <td>0.008003583</td>\n",
       "      <td>...</td>\n",
       "      <td>0.008606956</td>\n",
       "      <td>0.008630536</td>\n",
       "      <td>0.008606956</td>\n",
       "      <td>0.008606956</td>\n",
       "      <td>0.004911509</td>\n",
       "      <td>0.004924966</td>\n",
       "      <td>0.004911509</td>\n",
       "      <td>0.004911509</td>\n",
       "      <td>0.004908811</td>\n",
       "      <td>0.004908869</td>\n",
       "    </tr>\n",
       "  </tbody>\n",
       "</table>\n",
       "<p>5 rows × 32 columns</p>\n",
       "</div>"
      ],
      "text/plain": [
       "  total energy consumption (quad Btu)         1986         1987         1988  \\\n",
       "0                               World  324.5344016  334.5932663  347.6354523   \n",
       "1                         Afghanistan  0.039111199  0.063065158  0.111220787   \n",
       "2                             Albania  0.166075365  0.166640543  0.168590876   \n",
       "3                             Algeria  1.073661264  1.148639374  1.222947634   \n",
       "4                      American Samoa  0.006716584  0.006973009  0.006778814   \n",
       "\n",
       "          1989         1990         1991         1992         1993  \\\n",
       "0  352.3576472  358.9595455  352.2644272  351.0744285  353.9732567   \n",
       "1  0.109364539  0.108320341  0.047438198  0.031281766  0.031068733   \n",
       "2  0.160340585  0.114845298  0.096323694  0.084191203  0.073833402   \n",
       "3   1.18021525  1.212354841  1.354444964   1.30211942  1.197210337   \n",
       "4  0.007806191  0.008210538  0.008210538  0.008445519  0.008216196   \n",
       "\n",
       "          1994  ...         2007         2008         2009         2010  \\\n",
       "0  357.8829972  ...   493.091062  499.6972405  494.3132499   523.725112   \n",
       "1  0.030081109  ...  0.034254709  0.058526483  0.095348795  0.118538529   \n",
       "2  0.070178183  ...   0.09682504  0.105744823  0.115070874  0.128327344   \n",
       "3  1.233072137  ...  1.558107806   1.68592524  1.783379231  1.777793483   \n",
       "4  0.008003583  ...  0.008606956  0.008630536  0.008606956  0.008606956   \n",
       "\n",
       "          2011         2012         2013         2014         2015  \\\n",
       "0  538.7016471  550.8484054  561.7706158  567.0296292  570.0615279   \n",
       "1  0.161050802  0.147607649  0.124017682  0.113619521  0.125483137   \n",
       "2  0.105875204  0.104431132  0.127732976  0.116326405  0.116576406   \n",
       "3  1.938981898  2.099941293  2.039276069   2.30202481  2.354764812   \n",
       "4  0.004911509  0.004924966  0.004911509  0.004911509  0.004908811   \n",
       "\n",
       "          2016  \n",
       "0  573.9508257  \n",
       "1  0.117133389  \n",
       "2   0.12436058  \n",
       "3  2.337093871  \n",
       "4  0.004908869  \n",
       "\n",
       "[5 rows x 32 columns]"
      ]
     },
     "execution_count": 3,
     "metadata": {},
     "output_type": "execute_result"
    }
   ],
   "source": [
    "temp_df = data_dfs[-1]\n",
    "temp_df.head()"
   ]
  },
  {
   "cell_type": "code",
   "execution_count": 4,
   "metadata": {},
   "outputs": [
    {
     "ename": "KeyError",
     "evalue": "\"None of [Index(['Year', 'Mean'], dtype='object')] are in the [columns]\"",
     "output_type": "error",
     "traceback": [
      "\u001b[1;31m---------------------------------------------------------------------------\u001b[0m",
      "\u001b[1;31mKeyError\u001b[0m                                  Traceback (most recent call last)",
      "\u001b[1;32m<ipython-input-4-6dbd4475c26b>\u001b[0m in \u001b[0;36m<module>\u001b[1;34m\u001b[0m\n\u001b[1;32m----> 1\u001b[1;33m \u001b[0mtemp_df\u001b[0m \u001b[1;33m=\u001b[0m \u001b[0mtemp_df\u001b[0m\u001b[1;33m[\u001b[0m\u001b[1;33m[\u001b[0m\u001b[1;34m'Year'\u001b[0m\u001b[1;33m,\u001b[0m\u001b[1;34m'Mean'\u001b[0m\u001b[1;33m]\u001b[0m\u001b[1;33m]\u001b[0m\u001b[1;33m\u001b[0m\u001b[1;33m\u001b[0m\u001b[0m\n\u001b[0m",
      "\u001b[1;32m~\\anaconda3\\lib\\site-packages\\pandas\\core\\frame.py\u001b[0m in \u001b[0;36m__getitem__\u001b[1;34m(self, key)\u001b[0m\n\u001b[0;32m   2804\u001b[0m             \u001b[1;32mif\u001b[0m \u001b[0mis_iterator\u001b[0m\u001b[1;33m(\u001b[0m\u001b[0mkey\u001b[0m\u001b[1;33m)\u001b[0m\u001b[1;33m:\u001b[0m\u001b[1;33m\u001b[0m\u001b[1;33m\u001b[0m\u001b[0m\n\u001b[0;32m   2805\u001b[0m                 \u001b[0mkey\u001b[0m \u001b[1;33m=\u001b[0m \u001b[0mlist\u001b[0m\u001b[1;33m(\u001b[0m\u001b[0mkey\u001b[0m\u001b[1;33m)\u001b[0m\u001b[1;33m\u001b[0m\u001b[1;33m\u001b[0m\u001b[0m\n\u001b[1;32m-> 2806\u001b[1;33m             \u001b[0mindexer\u001b[0m \u001b[1;33m=\u001b[0m \u001b[0mself\u001b[0m\u001b[1;33m.\u001b[0m\u001b[0mloc\u001b[0m\u001b[1;33m.\u001b[0m\u001b[0m_get_listlike_indexer\u001b[0m\u001b[1;33m(\u001b[0m\u001b[0mkey\u001b[0m\u001b[1;33m,\u001b[0m \u001b[0maxis\u001b[0m\u001b[1;33m=\u001b[0m\u001b[1;36m1\u001b[0m\u001b[1;33m,\u001b[0m \u001b[0mraise_missing\u001b[0m\u001b[1;33m=\u001b[0m\u001b[1;32mTrue\u001b[0m\u001b[1;33m)\u001b[0m\u001b[1;33m[\u001b[0m\u001b[1;36m1\u001b[0m\u001b[1;33m]\u001b[0m\u001b[1;33m\u001b[0m\u001b[1;33m\u001b[0m\u001b[0m\n\u001b[0m\u001b[0;32m   2807\u001b[0m \u001b[1;33m\u001b[0m\u001b[0m\n\u001b[0;32m   2808\u001b[0m         \u001b[1;31m# take() does not accept boolean indexers\u001b[0m\u001b[1;33m\u001b[0m\u001b[1;33m\u001b[0m\u001b[1;33m\u001b[0m\u001b[0m\n",
      "\u001b[1;32m~\\anaconda3\\lib\\site-packages\\pandas\\core\\indexing.py\u001b[0m in \u001b[0;36m_get_listlike_indexer\u001b[1;34m(self, key, axis, raise_missing)\u001b[0m\n\u001b[0;32m   1550\u001b[0m \u001b[1;33m\u001b[0m\u001b[0m\n\u001b[0;32m   1551\u001b[0m         self._validate_read_indexer(\n\u001b[1;32m-> 1552\u001b[1;33m             \u001b[0mkeyarr\u001b[0m\u001b[1;33m,\u001b[0m \u001b[0mindexer\u001b[0m\u001b[1;33m,\u001b[0m \u001b[0mo\u001b[0m\u001b[1;33m.\u001b[0m\u001b[0m_get_axis_number\u001b[0m\u001b[1;33m(\u001b[0m\u001b[0maxis\u001b[0m\u001b[1;33m)\u001b[0m\u001b[1;33m,\u001b[0m \u001b[0mraise_missing\u001b[0m\u001b[1;33m=\u001b[0m\u001b[0mraise_missing\u001b[0m\u001b[1;33m\u001b[0m\u001b[1;33m\u001b[0m\u001b[0m\n\u001b[0m\u001b[0;32m   1553\u001b[0m         )\n\u001b[0;32m   1554\u001b[0m         \u001b[1;32mreturn\u001b[0m \u001b[0mkeyarr\u001b[0m\u001b[1;33m,\u001b[0m \u001b[0mindexer\u001b[0m\u001b[1;33m\u001b[0m\u001b[1;33m\u001b[0m\u001b[0m\n",
      "\u001b[1;32m~\\anaconda3\\lib\\site-packages\\pandas\\core\\indexing.py\u001b[0m in \u001b[0;36m_validate_read_indexer\u001b[1;34m(self, key, indexer, axis, raise_missing)\u001b[0m\n\u001b[0;32m   1637\u001b[0m             \u001b[1;32mif\u001b[0m \u001b[0mmissing\u001b[0m \u001b[1;33m==\u001b[0m \u001b[0mlen\u001b[0m\u001b[1;33m(\u001b[0m\u001b[0mindexer\u001b[0m\u001b[1;33m)\u001b[0m\u001b[1;33m:\u001b[0m\u001b[1;33m\u001b[0m\u001b[1;33m\u001b[0m\u001b[0m\n\u001b[0;32m   1638\u001b[0m                 \u001b[0maxis_name\u001b[0m \u001b[1;33m=\u001b[0m \u001b[0mself\u001b[0m\u001b[1;33m.\u001b[0m\u001b[0mobj\u001b[0m\u001b[1;33m.\u001b[0m\u001b[0m_get_axis_name\u001b[0m\u001b[1;33m(\u001b[0m\u001b[0maxis\u001b[0m\u001b[1;33m)\u001b[0m\u001b[1;33m\u001b[0m\u001b[1;33m\u001b[0m\u001b[0m\n\u001b[1;32m-> 1639\u001b[1;33m                 \u001b[1;32mraise\u001b[0m \u001b[0mKeyError\u001b[0m\u001b[1;33m(\u001b[0m\u001b[1;34mf\"None of [{key}] are in the [{axis_name}]\"\u001b[0m\u001b[1;33m)\u001b[0m\u001b[1;33m\u001b[0m\u001b[1;33m\u001b[0m\u001b[0m\n\u001b[0m\u001b[0;32m   1640\u001b[0m \u001b[1;33m\u001b[0m\u001b[0m\n\u001b[0;32m   1641\u001b[0m             \u001b[1;31m# We (temporarily) allow for some missing keys with .loc, except in\u001b[0m\u001b[1;33m\u001b[0m\u001b[1;33m\u001b[0m\u001b[1;33m\u001b[0m\u001b[0m\n",
      "\u001b[1;31mKeyError\u001b[0m: \"None of [Index(['Year', 'Mean'], dtype='object')] are in the [columns]\""
     ]
    }
   ],
   "source": [
    "temp_df = temp_df[['Year','Mean']]"
   ]
  },
  {
   "cell_type": "code",
   "execution_count": null,
   "metadata": {},
   "outputs": [],
   "source": [
    "temp_df = temp_df.groupby('Year').mean()"
   ]
  },
  {
   "cell_type": "code",
   "execution_count": null,
   "metadata": {},
   "outputs": [],
   "source": [
    "cons_df = data_dfs[0].set_index('Location')\n",
    "con_by_year = cons_df.loc['World'].astype(float).sum()"
   ]
  },
  {
   "cell_type": "code",
   "execution_count": null,
   "metadata": {},
   "outputs": [],
   "source": [
    "plt.plot(temp_df) #temp_df.Year,temp_df.mean)\n",
    "plt.ylabel('+/- C from mean for 1880-2020')\n"
   ]
  },
  {
   "cell_type": "code",
   "execution_count": null,
   "metadata": {},
   "outputs": [],
   "source": [
    "plt.savefig('../Images/Temperature_vs_Time.png')"
   ]
  },
  {
   "cell_type": "code",
   "execution_count": null,
   "metadata": {},
   "outputs": [],
   "source": [
    "temp_df = temp_df.reset_index()"
   ]
  },
  {
   "cell_type": "code",
   "execution_count": null,
   "metadata": {},
   "outputs": [],
   "source": [
    "temp_df = temp_df[temp_df.Year > 1985]\n",
    "temp_df"
   ]
  },
  {
   "cell_type": "code",
   "execution_count": null,
   "metadata": {},
   "outputs": [],
   "source": [
    "cons_df"
   ]
  },
  {
   "cell_type": "code",
   "execution_count": null,
   "metadata": {},
   "outputs": [],
   "source": [
    "con_by_year = pd.DataFrame(con_by_year)\n",
    "con_by_year.columns = ['Consumption']\n",
    "con_by_year"
   ]
  },
  {
   "cell_type": "code",
   "execution_count": null,
   "metadata": {},
   "outputs": [],
   "source": [
    "\n",
    "main = pd.merge(temp_df, con_by_year, left_index=True, right_index=True, how='outer')"
   ]
  },
  {
   "cell_type": "code",
   "execution_count": null,
   "metadata": {},
   "outputs": [],
   "source": [
    "con_by_year = con_by_year.reset_index()\n",
    "con_by_year"
   ]
  },
  {
   "cell_type": "code",
   "execution_count": null,
   "metadata": {},
   "outputs": [],
   "source": [
    "con_by_year = con_by_year.rename(columns={'index':'Year'})\n",
    "con_by_year"
   ]
  },
  {
   "cell_type": "code",
   "execution_count": null,
   "metadata": {},
   "outputs": [],
   "source": [
    "con_by_year.Year = con_by_year.Year.astype(int)\n",
    "temp_df.Year = temp_df.Year.astype(int)"
   ]
  },
  {
   "cell_type": "code",
   "execution_count": null,
   "metadata": {},
   "outputs": [],
   "source": [
    "main = pd.merge(con_by_year, temp_df, on='Year', how='outer')\n",
    "main"
   ]
  },
  {
   "cell_type": "code",
   "execution_count": null,
   "metadata": {},
   "outputs": [],
   "source": [
    "main = main.rename(columns={'Mean':'Temperature Delta'})\n",
    "main"
   ]
  },
  {
   "cell_type": "code",
   "execution_count": null,
   "metadata": {},
   "outputs": [],
   "source": [
    "main.to_csv('../Cleaned Data/Global_Consumption_and_Temperature.csv')"
   ]
  },
  {
   "cell_type": "code",
   "execution_count": null,
   "metadata": {},
   "outputs": [],
   "source": [
    "import numpy as np\n",
    "import matplotlib.pyplot as plt\n",
    "\n",
    "# Create some mock data\n",
    "t = main['Year']\n",
    "data1 = main['Temperature Delta']\n",
    "data2 = main['Consumption']\n",
    "\n",
    "fig, ax1 = plt.subplots()\n",
    "\n",
    "color = 'tab:red'\n",
    "ax1.set_xlabel('Year')\n",
    "ax1.set_ylabel('Temp Delta', color=color)\n",
    "ax1.plot(t, data1, color=color)\n",
    "ax1.tick_params(axis='y', labelcolor=color)\n",
    "\n",
    "ax2 = ax1.twinx()  # instantiate a second axes that shares the same x-axis\n",
    "\n",
    "color = 'tab:blue'\n",
    "ax2.set_ylabel('Global Consumption', color=color)  # we already handled the x-label with ax1\n",
    "ax2.plot(t, data2, color=color)\n",
    "ax2.tick_params(axis='y', labelcolor=color)\n",
    "\n",
    "fig.tight_layout()  # otherwise the right y-label is slightly clipped\n",
    "plt.savefig('../Images/Temp et Consumption by year.png')\n",
    "plt.show()"
   ]
  },
  {
   "cell_type": "code",
   "execution_count": null,
   "metadata": {},
   "outputs": [],
   "source": [
    "plt.plot(main.Year,main.Consumption)\n",
    "plt.plot(main.Year,main['Temperature Delta'].astype(float))"
   ]
  },
  {
   "cell_type": "code",
   "execution_count": null,
   "metadata": {},
   "outputs": [],
   "source": [
    "plt.plot(con_by_year)\n",
    "plt.xticks(rotation=90)\n",
    "plt.show()"
   ]
  },
  {
   "cell_type": "code",
   "execution_count": null,
   "metadata": {},
   "outputs": [],
   "source": []
  }
 ],
 "metadata": {
  "kernelspec": {
   "display_name": "Python 3",
   "language": "python",
   "name": "python3"
  },
  "language_info": {
   "codemirror_mode": {
    "name": "ipython",
    "version": 3
   },
   "file_extension": ".py",
   "mimetype": "text/x-python",
   "name": "python",
   "nbconvert_exporter": "python",
   "pygments_lexer": "ipython3",
   "version": "3.7.6"
  }
 },
 "nbformat": 4,
 "nbformat_minor": 4
}

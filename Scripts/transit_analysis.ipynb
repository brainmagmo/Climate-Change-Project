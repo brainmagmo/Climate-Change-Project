{
 "cells": [
  {
   "cell_type": "code",
   "execution_count": 55,
   "metadata": {},
   "outputs": [],
   "source": [
    "## Attempted by Stephen ##"
   ]
  },
  {
   "cell_type": "code",
   "execution_count": 60,
   "metadata": {},
   "outputs": [],
   "source": [
    "import os\n",
    "import pandas as pd\n",
    "import matplotlib.pyplot as plt\n",
    "import numpy as np\n"
   ]
  },
  {
   "cell_type": "code",
   "execution_count": 61,
   "metadata": {},
   "outputs": [],
   "source": [
    "transit = pd.read_csv(\"../Cleaned Data/Passenger use by year.csv\")\n",
    "total_consumption= pd.read_csv(\"../Cleaned Data/total_consumption.csv\")\n",
    "natural_gas = pd.read_csv(\"../Cleaned Data/natural_gas_consumption.csv\")\n",
    "nuclear = pd.read_csv(\"../Cleaned Data/nuclear_consumption.csv\")\n",
    "petroleum = pd.read_csv(\"../Cleaned Data/petroleum_consumption.csv\")"
   ]
  },
  {
   "cell_type": "code",
   "execution_count": 62,
   "metadata": {
    "scrolled": false
   },
   "outputs": [
    {
     "data": {
      "text/html": [
       "<div>\n",
       "<style scoped>\n",
       "    .dataframe tbody tr th:only-of-type {\n",
       "        vertical-align: middle;\n",
       "    }\n",
       "\n",
       "    .dataframe tbody tr th {\n",
       "        vertical-align: top;\n",
       "    }\n",
       "\n",
       "    .dataframe thead th {\n",
       "        text-align: right;\n",
       "    }\n",
       "</style>\n",
       "<table border=\"1\" class=\"dataframe\">\n",
       "  <thead>\n",
       "    <tr style=\"text-align: right;\">\n",
       "      <th></th>\n",
       "      <th>COUNTRY</th>\n",
       "      <th>Country</th>\n",
       "      <th>VARIABLE</th>\n",
       "      <th>Variable</th>\n",
       "      <th>YEAR</th>\n",
       "      <th>Year</th>\n",
       "      <th>Unit Code</th>\n",
       "      <th>Unit</th>\n",
       "      <th>PowerCode Code</th>\n",
       "      <th>PowerCode</th>\n",
       "      <th>Reference Period Code</th>\n",
       "      <th>Reference Period</th>\n",
       "      <th>Value</th>\n",
       "      <th>Flag Codes</th>\n",
       "      <th>Flags</th>\n",
       "    </tr>\n",
       "  </thead>\n",
       "  <tbody>\n",
       "    <tr>\n",
       "      <th>0</th>\n",
       "      <td>KOR</td>\n",
       "      <td>Korea</td>\n",
       "      <td>T-PASS-RD-TOT</td>\n",
       "      <td>Road passenger transport</td>\n",
       "      <td>2001</td>\n",
       "      <td>2001</td>\n",
       "      <td>PKM</td>\n",
       "      <td>Passenger-kilometres</td>\n",
       "      <td>6</td>\n",
       "      <td>Millions</td>\n",
       "      <td>NaN</td>\n",
       "      <td>NaN</td>\n",
       "      <td>267525.0</td>\n",
       "      <td>NaN</td>\n",
       "      <td>NaN</td>\n",
       "    </tr>\n",
       "    <tr>\n",
       "      <th>1</th>\n",
       "      <td>KOR</td>\n",
       "      <td>Korea</td>\n",
       "      <td>T-PASS-RD-TOT</td>\n",
       "      <td>Road passenger transport</td>\n",
       "      <td>2002</td>\n",
       "      <td>2002</td>\n",
       "      <td>PKM</td>\n",
       "      <td>Passenger-kilometres</td>\n",
       "      <td>6</td>\n",
       "      <td>Millions</td>\n",
       "      <td>NaN</td>\n",
       "      <td>NaN</td>\n",
       "      <td>244955.0</td>\n",
       "      <td>NaN</td>\n",
       "      <td>NaN</td>\n",
       "    </tr>\n",
       "    <tr>\n",
       "      <th>2</th>\n",
       "      <td>KOR</td>\n",
       "      <td>Korea</td>\n",
       "      <td>T-PASS-RD-TOT</td>\n",
       "      <td>Road passenger transport</td>\n",
       "      <td>2003</td>\n",
       "      <td>2003</td>\n",
       "      <td>PKM</td>\n",
       "      <td>Passenger-kilometres</td>\n",
       "      <td>6</td>\n",
       "      <td>Millions</td>\n",
       "      <td>NaN</td>\n",
       "      <td>NaN</td>\n",
       "      <td>238861.0</td>\n",
       "      <td>NaN</td>\n",
       "      <td>NaN</td>\n",
       "    </tr>\n",
       "    <tr>\n",
       "      <th>3</th>\n",
       "      <td>KOR</td>\n",
       "      <td>Korea</td>\n",
       "      <td>T-PASS-RD-TOT</td>\n",
       "      <td>Road passenger transport</td>\n",
       "      <td>2004</td>\n",
       "      <td>2004</td>\n",
       "      <td>PKM</td>\n",
       "      <td>Passenger-kilometres</td>\n",
       "      <td>6</td>\n",
       "      <td>Millions</td>\n",
       "      <td>NaN</td>\n",
       "      <td>NaN</td>\n",
       "      <td>190183.0</td>\n",
       "      <td>NaN</td>\n",
       "      <td>NaN</td>\n",
       "    </tr>\n",
       "    <tr>\n",
       "      <th>4</th>\n",
       "      <td>KOR</td>\n",
       "      <td>Korea</td>\n",
       "      <td>T-PASS-RD-TOT</td>\n",
       "      <td>Road passenger transport</td>\n",
       "      <td>2005</td>\n",
       "      <td>2005</td>\n",
       "      <td>PKM</td>\n",
       "      <td>Passenger-kilometres</td>\n",
       "      <td>6</td>\n",
       "      <td>Millions</td>\n",
       "      <td>NaN</td>\n",
       "      <td>NaN</td>\n",
       "      <td>200779.0</td>\n",
       "      <td>B</td>\n",
       "      <td>Break</td>\n",
       "    </tr>\n",
       "  </tbody>\n",
       "</table>\n",
       "</div>"
      ],
      "text/plain": [
       "  COUNTRY Country       VARIABLE                  Variable  YEAR  Year  \\\n",
       "0     KOR   Korea  T-PASS-RD-TOT  Road passenger transport  2001  2001   \n",
       "1     KOR   Korea  T-PASS-RD-TOT  Road passenger transport  2002  2002   \n",
       "2     KOR   Korea  T-PASS-RD-TOT  Road passenger transport  2003  2003   \n",
       "3     KOR   Korea  T-PASS-RD-TOT  Road passenger transport  2004  2004   \n",
       "4     KOR   Korea  T-PASS-RD-TOT  Road passenger transport  2005  2005   \n",
       "\n",
       "  Unit Code                  Unit  PowerCode Code PowerCode  \\\n",
       "0       PKM  Passenger-kilometres               6  Millions   \n",
       "1       PKM  Passenger-kilometres               6  Millions   \n",
       "2       PKM  Passenger-kilometres               6  Millions   \n",
       "3       PKM  Passenger-kilometres               6  Millions   \n",
       "4       PKM  Passenger-kilometres               6  Millions   \n",
       "\n",
       "   Reference Period Code  Reference Period     Value Flag Codes  Flags  \n",
       "0                    NaN               NaN  267525.0        NaN    NaN  \n",
       "1                    NaN               NaN  244955.0        NaN    NaN  \n",
       "2                    NaN               NaN  238861.0        NaN    NaN  \n",
       "3                    NaN               NaN  190183.0        NaN    NaN  \n",
       "4                    NaN               NaN  200779.0          B  Break  "
      ]
     },
     "execution_count": 62,
     "metadata": {},
     "output_type": "execute_result"
    }
   ],
   "source": [
    "transit.head()"
   ]
  },
  {
   "cell_type": "code",
   "execution_count": 75,
   "metadata": {},
   "outputs": [
    {
     "ename": "KeyError",
     "evalue": "\"None of [Int64Index([2001, 2002, 2003, 2004, 2005, 2006, 2007, 2008, 2009, 2010,\\n            ...\\n            2017, 2010, 2011, 2012, 2013, 2014, 2015, 2016, 2017, 2018],\\n           dtype='int64', length=2611)] are in the [columns]\"",
     "output_type": "error",
     "traceback": [
      "\u001b[1;31m---------------------------------------------------------------------------\u001b[0m",
      "\u001b[1;31mKeyError\u001b[0m                                  Traceback (most recent call last)",
      "\u001b[1;32m<ipython-input-75-8e300c09cd1e>\u001b[0m in \u001b[0;36m<module>\u001b[1;34m\u001b[0m\n\u001b[1;32m----> 1\u001b[1;33m \u001b[0mnew_transit\u001b[0m \u001b[1;33m=\u001b[0m \u001b[0mtransit\u001b[0m\u001b[1;33m[\u001b[0m\u001b[0mtransit\u001b[0m\u001b[1;33m[\u001b[0m\u001b[1;34m\"Year\"\u001b[0m\u001b[1;33m]\u001b[0m\u001b[1;33m]\u001b[0m\u001b[1;33m<\u001b[0m\u001b[1;36m2017\u001b[0m\u001b[1;33m\u001b[0m\u001b[1;33m\u001b[0m\u001b[0m\n\u001b[0m\u001b[0;32m      2\u001b[0m \u001b[0mnew_transit\u001b[0m\u001b[1;33m.\u001b[0m\u001b[0mhead\u001b[0m\u001b[1;33m(\u001b[0m\u001b[1;33m)\u001b[0m\u001b[1;33m\u001b[0m\u001b[1;33m\u001b[0m\u001b[0m\n",
      "\u001b[1;32m~\\Anaconda3\\lib\\site-packages\\pandas\\core\\frame.py\u001b[0m in \u001b[0;36m__getitem__\u001b[1;34m(self, key)\u001b[0m\n\u001b[0;32m   2804\u001b[0m             \u001b[1;32mif\u001b[0m \u001b[0mis_iterator\u001b[0m\u001b[1;33m(\u001b[0m\u001b[0mkey\u001b[0m\u001b[1;33m)\u001b[0m\u001b[1;33m:\u001b[0m\u001b[1;33m\u001b[0m\u001b[1;33m\u001b[0m\u001b[0m\n\u001b[0;32m   2805\u001b[0m                 \u001b[0mkey\u001b[0m \u001b[1;33m=\u001b[0m \u001b[0mlist\u001b[0m\u001b[1;33m(\u001b[0m\u001b[0mkey\u001b[0m\u001b[1;33m)\u001b[0m\u001b[1;33m\u001b[0m\u001b[1;33m\u001b[0m\u001b[0m\n\u001b[1;32m-> 2806\u001b[1;33m             \u001b[0mindexer\u001b[0m \u001b[1;33m=\u001b[0m \u001b[0mself\u001b[0m\u001b[1;33m.\u001b[0m\u001b[0mloc\u001b[0m\u001b[1;33m.\u001b[0m\u001b[0m_get_listlike_indexer\u001b[0m\u001b[1;33m(\u001b[0m\u001b[0mkey\u001b[0m\u001b[1;33m,\u001b[0m \u001b[0maxis\u001b[0m\u001b[1;33m=\u001b[0m\u001b[1;36m1\u001b[0m\u001b[1;33m,\u001b[0m \u001b[0mraise_missing\u001b[0m\u001b[1;33m=\u001b[0m\u001b[1;32mTrue\u001b[0m\u001b[1;33m)\u001b[0m\u001b[1;33m[\u001b[0m\u001b[1;36m1\u001b[0m\u001b[1;33m]\u001b[0m\u001b[1;33m\u001b[0m\u001b[1;33m\u001b[0m\u001b[0m\n\u001b[0m\u001b[0;32m   2807\u001b[0m \u001b[1;33m\u001b[0m\u001b[0m\n\u001b[0;32m   2808\u001b[0m         \u001b[1;31m# take() does not accept boolean indexers\u001b[0m\u001b[1;33m\u001b[0m\u001b[1;33m\u001b[0m\u001b[1;33m\u001b[0m\u001b[0m\n",
      "\u001b[1;32m~\\Anaconda3\\lib\\site-packages\\pandas\\core\\indexing.py\u001b[0m in \u001b[0;36m_get_listlike_indexer\u001b[1;34m(self, key, axis, raise_missing)\u001b[0m\n\u001b[0;32m   1550\u001b[0m \u001b[1;33m\u001b[0m\u001b[0m\n\u001b[0;32m   1551\u001b[0m         self._validate_read_indexer(\n\u001b[1;32m-> 1552\u001b[1;33m             \u001b[0mkeyarr\u001b[0m\u001b[1;33m,\u001b[0m \u001b[0mindexer\u001b[0m\u001b[1;33m,\u001b[0m \u001b[0mo\u001b[0m\u001b[1;33m.\u001b[0m\u001b[0m_get_axis_number\u001b[0m\u001b[1;33m(\u001b[0m\u001b[0maxis\u001b[0m\u001b[1;33m)\u001b[0m\u001b[1;33m,\u001b[0m \u001b[0mraise_missing\u001b[0m\u001b[1;33m=\u001b[0m\u001b[0mraise_missing\u001b[0m\u001b[1;33m\u001b[0m\u001b[1;33m\u001b[0m\u001b[0m\n\u001b[0m\u001b[0;32m   1553\u001b[0m         )\n\u001b[0;32m   1554\u001b[0m         \u001b[1;32mreturn\u001b[0m \u001b[0mkeyarr\u001b[0m\u001b[1;33m,\u001b[0m \u001b[0mindexer\u001b[0m\u001b[1;33m\u001b[0m\u001b[1;33m\u001b[0m\u001b[0m\n",
      "\u001b[1;32m~\\Anaconda3\\lib\\site-packages\\pandas\\core\\indexing.py\u001b[0m in \u001b[0;36m_validate_read_indexer\u001b[1;34m(self, key, indexer, axis, raise_missing)\u001b[0m\n\u001b[0;32m   1637\u001b[0m             \u001b[1;32mif\u001b[0m \u001b[0mmissing\u001b[0m \u001b[1;33m==\u001b[0m \u001b[0mlen\u001b[0m\u001b[1;33m(\u001b[0m\u001b[0mindexer\u001b[0m\u001b[1;33m)\u001b[0m\u001b[1;33m:\u001b[0m\u001b[1;33m\u001b[0m\u001b[1;33m\u001b[0m\u001b[0m\n\u001b[0;32m   1638\u001b[0m                 \u001b[0maxis_name\u001b[0m \u001b[1;33m=\u001b[0m \u001b[0mself\u001b[0m\u001b[1;33m.\u001b[0m\u001b[0mobj\u001b[0m\u001b[1;33m.\u001b[0m\u001b[0m_get_axis_name\u001b[0m\u001b[1;33m(\u001b[0m\u001b[0maxis\u001b[0m\u001b[1;33m)\u001b[0m\u001b[1;33m\u001b[0m\u001b[1;33m\u001b[0m\u001b[0m\n\u001b[1;32m-> 1639\u001b[1;33m                 \u001b[1;32mraise\u001b[0m \u001b[0mKeyError\u001b[0m\u001b[1;33m(\u001b[0m\u001b[1;34mf\"None of [{key}] are in the [{axis_name}]\"\u001b[0m\u001b[1;33m)\u001b[0m\u001b[1;33m\u001b[0m\u001b[1;33m\u001b[0m\u001b[0m\n\u001b[0m\u001b[0;32m   1640\u001b[0m \u001b[1;33m\u001b[0m\u001b[0m\n\u001b[0;32m   1641\u001b[0m             \u001b[1;31m# We (temporarily) allow for some missing keys with .loc, except in\u001b[0m\u001b[1;33m\u001b[0m\u001b[1;33m\u001b[0m\u001b[1;33m\u001b[0m\u001b[0m\n",
      "\u001b[1;31mKeyError\u001b[0m: \"None of [Int64Index([2001, 2002, 2003, 2004, 2005, 2006, 2007, 2008, 2009, 2010,\\n            ...\\n            2017, 2010, 2011, 2012, 2013, 2014, 2015, 2016, 2017, 2018],\\n           dtype='int64', length=2611)] are in the [columns]\""
     ]
    }
   ],
   "source": [
    "before_2017 = transit[\"Year\"]<2017\n",
    "new_transit = transit[before_2017]"
   ]
  },
  {
   "cell_type": "code",
   "execution_count": 63,
   "metadata": {},
   "outputs": [
    {
     "data": {
      "text/plain": [
       "Country\n",
       "Albania                    4.167553e+03\n",
       "Argentina                  3.211225e+04\n",
       "Armenia                    1.530833e+03\n",
       "Australia                  1.984903e+05\n",
       "Austria                    1.040607e+04\n",
       "Azerbaijan                 1.139667e+04\n",
       "Belarus                    1.455681e+04\n",
       "Belgium                    8.913950e+04\n",
       "Bosnia-Herzegovina         9.802105e+02\n",
       "Bulgaria                   9.113789e+03\n",
       "Canada                     2.547163e+05\n",
       "Chile                      7.161993e+02\n",
       "China                      1.283752e+06\n",
       "Croatia                    3.200000e+03\n",
       "Czech Republic             5.705924e+04\n",
       "Denmark                    4.833004e+04\n",
       "Estonia                    1.982211e+03\n",
       "Finland                    4.940456e+04\n",
       "France                     5.829337e+05\n",
       "Georgia                    4.288593e+03\n",
       "Germany                    6.851632e+05\n",
       "Greece                     2.155692e+04\n",
       "Hungary                    5.241118e+04\n",
       "Iceland                    5.553000e+03\n",
       "India                      6.034984e+06\n",
       "Ireland                    1.773263e+03\n",
       "Israel                     1.924108e+03\n",
       "Italy                      5.580349e+05\n",
       "Japan                      7.847065e+05\n",
       "Korea                      2.391367e+05\n",
       "Latvia                     2.105860e+03\n",
       "Liechtenstein                       NaN\n",
       "Lithuania                  2.144332e+04\n",
       "Luxembourg                 3.308125e+02\n",
       "Malta                      1.961012e+03\n",
       "Mexico                     3.041181e+05\n",
       "Moldova                    1.781056e+03\n",
       "Montenegro, Republic of    1.473725e+02\n",
       "Netherlands                9.099065e+04\n",
       "North Macedonia            5.026316e+03\n",
       "Norway                     4.357553e+04\n",
       "Poland                     1.598315e+05\n",
       "Portugal                   4.991311e+04\n",
       "Romania                    1.303225e+04\n",
       "Russian Federation         1.956226e+05\n",
       "Serbia, Republic of        6.693333e+02\n",
       "Slovak Republic            2.373400e+04\n",
       "Slovenia                   1.494412e+04\n",
       "Spain                      2.613980e+05\n",
       "Sweden                     8.680747e+04\n",
       "Switzerland                7.170881e+04\n",
       "Turkey                     1.572450e+05\n",
       "Ukraine                    6.014916e+04\n",
       "United Kingdom             5.095801e+05\n",
       "United States              3.611825e+06\n",
       "Name: Value, dtype: float64"
      ]
     },
     "execution_count": 63,
     "metadata": {},
     "output_type": "execute_result"
    }
   ],
   "source": [
    "country_group = transit.groupby(['Country'])\n",
    "country_group[\"Value\"].mean()"
   ]
  },
  {
   "cell_type": "code",
   "execution_count": 64,
   "metadata": {},
   "outputs": [],
   "source": [
    "year_group = transit.groupby(['Year'])\n",
    "year_mean = year_group[\"Value\"].mean()"
   ]
  },
  {
   "cell_type": "code",
   "execution_count": 69,
   "metadata": {},
   "outputs": [
    {
     "data": {
      "image/png": "[encoded data removed]",
      "text/plain": [
       "<Figure size 432x288 with 1 Axes>"
      ]
     },
     "metadata": {
      "needs_background": "light"
     },
     "output_type": "display_data"
    }
   ],
   "source": [
    "year_mean.plot()\n",
    "plt.ylabel = (\"Avg. Transit Distance by year\")"
   ]
  },
  {
   "cell_type": "code",
   "execution_count": 71,
   "metadata": {},
   "outputs": [
    {
     "data": {
      "text/plain": [
       "<Figure size 432x288 with 0 Axes>"
      ]
     },
     "metadata": {},
     "output_type": "display_data"
    }
   ],
   "source": [
    "plt.savefig(\"../Images/Average_Transit_Distance_by_year\")"
   ]
  },
  {
   "cell_type": "code",
   "execution_count": 66,
   "metadata": {},
   "outputs": [
    {
     "data": {
      "text/plain": [
       "Year\n",
       "2000    243433.666005\n",
       "2001    246037.055705\n",
       "2002    252073.086223\n",
       "2003    256457.680454\n",
       "2004    267526.129403\n",
       "2005    277376.910781\n",
       "2006    286152.944696\n",
       "2007    317070.989819\n",
       "2008    328448.767785\n",
       "2009    359726.625963\n",
       "2010    373061.537832\n",
       "2011    394410.511649\n",
       "2012    417203.408175\n",
       "2013    424898.728940\n",
       "2014    451290.996209\n",
       "2015    487241.649096\n",
       "2016    526608.326267\n",
       "2017    598387.025478\n",
       "2018    118346.398425\n",
       "Name: Value, dtype: float64"
      ]
     },
     "execution_count": 66,
     "metadata": {},
     "output_type": "execute_result"
    }
   ],
   "source": [
    "year_mean"
   ]
  },
  {
   "cell_type": "code",
   "execution_count": 67,
   "metadata": {},
   "outputs": [
    {
     "data": {
      "text/plain": [
       "Year\n",
       "2000    3.262011e+07\n",
       "2001    3.419915e+07\n",
       "2002    3.554231e+07\n",
       "2003    3.616053e+07\n",
       "2004    3.772118e+07\n",
       "2005    3.966490e+07\n",
       "2006    4.091987e+07\n",
       "2007    4.597529e+07\n",
       "2008    4.762507e+07\n",
       "2009    5.000200e+07\n",
       "2010    4.999025e+07\n",
       "2011    5.285101e+07\n",
       "2012    5.507085e+07\n",
       "2013    5.693643e+07\n",
       "2014    6.047299e+07\n",
       "2015    6.529038e+07\n",
       "2016    7.003891e+07\n",
       "2017    7.360160e+07\n",
       "2018    1.017779e+07\n",
       "Name: Value, dtype: float64"
      ]
     },
     "execution_count": 67,
     "metadata": {},
     "output_type": "execute_result"
    }
   ],
   "source": [
    "year_group = transit.groupby(['Year'])\n",
    "year_sum = year_group[\"Value\"].sum()\n",
    "year_sum"
   ]
  },
  {
   "cell_type": "code",
   "execution_count": null,
   "metadata": {},
   "outputs": [],
   "source": []
  }
 ],
 "metadata": {
  "kernelspec": {
   "display_name": "Python 3",
   "language": "python",
   "name": "python3"
  },
  "language_info": {
   "codemirror_mode": {
    "name": "ipython",
    "version": 3
   },
   "file_extension": ".py",
   "mimetype": "text/x-python",
   "name": "python",
   "nbconvert_exporter": "python",
   "pygments_lexer": "ipython3",
   "version": "3.7.6"
  }
 },
 "nbformat": 4,
 "nbformat_minor": 4
}

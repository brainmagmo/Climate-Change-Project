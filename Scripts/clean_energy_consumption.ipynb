{
 "cells": [
  {
   "cell_type": "code",
   "execution_count": 1,
   "metadata": {},
   "outputs": [],
   "source": [
    "# Dependencies and setup\n",
    "import pandas as pd\n",
    "import pandas as pd\n",
    "import numpy as np\n",
    "import os"
   ]
  },
  {
   "cell_type": "code",
   "execution_count": 2,
   "metadata": {},
   "outputs": [
    {
     "output_type": "execute_result",
     "data": {
      "text/plain": "  total energy consumption (quad Btu)         1986         1987         1988  \\\n0                               World  324.5344016  334.5932663  347.6354523   \n1                         Afghanistan  0.039111199  0.063065158  0.111220787   \n2                             Albania  0.166075365  0.166640543  0.168590876   \n3                             Algeria  1.073661264  1.148639374  1.222947634   \n4                      American Samoa  0.006716584  0.006973009  0.006778814   \n\n          1989         1990         1991         1992         1993  \\\n0  352.3576472  358.9595455  352.2644272  351.0744285  353.9732567   \n1  0.109364539  0.108320341  0.047438198  0.031281766  0.031068733   \n2  0.160340585  0.114845298  0.096323694  0.084191203  0.073833402   \n3   1.18021525  1.212354841  1.354444964   1.30211942  1.197210337   \n4  0.007806191  0.008210538  0.008210538  0.008445519  0.008216196   \n\n          1994  ...         2007         2008         2009         2010  \\\n0  357.8829972  ...   493.091062  499.6972405  494.3132499   523.725112   \n1  0.030081109  ...  0.034254709  0.058526483  0.095348795  0.118538529   \n2  0.070178183  ...   0.09682504  0.105744823  0.115070874  0.128327344   \n3  1.233072137  ...  1.558107806   1.68592524  1.783379231  1.777793483   \n4  0.008003583  ...  0.008606956  0.008630536  0.008606956  0.008606956   \n\n          2011         2012         2013         2014         2015  \\\n0  538.7016471  550.8484054  561.7706158  567.0296292  570.0615279   \n1  0.161050802  0.147607649  0.124017682  0.113619521  0.125483137   \n2  0.105875204  0.104431132  0.127732976  0.116326405  0.116576406   \n3  1.938981898  2.099941293  2.039276069   2.30202481  2.354764812   \n4  0.004911509  0.004924966  0.004911509  0.004911509  0.004908811   \n\n          2016  \n0  573.9508257  \n1  0.117133389  \n2   0.12436058  \n3  2.337093871  \n4  0.004908869  \n\n[5 rows x 32 columns]",
      "text/html": "<div>\n<style scoped>\n    .dataframe tbody tr th:only-of-type {\n        vertical-align: middle;\n    }\n\n    .dataframe tbody tr th {\n        vertical-align: top;\n    }\n\n    .dataframe thead th {\n        text-align: right;\n    }\n</style>\n<table border=\"1\" class=\"dataframe\">\n  <thead>\n    <tr style=\"text-align: right;\">\n      <th></th>\n      <th>total energy consumption (quad Btu)</th>\n      <th>1986</th>\n      <th>1987</th>\n      <th>1988</th>\n      <th>1989</th>\n      <th>1990</th>\n      <th>1991</th>\n      <th>1992</th>\n      <th>1993</th>\n      <th>1994</th>\n      <th>...</th>\n      <th>2007</th>\n      <th>2008</th>\n      <th>2009</th>\n      <th>2010</th>\n      <th>2011</th>\n      <th>2012</th>\n      <th>2013</th>\n      <th>2014</th>\n      <th>2015</th>\n      <th>2016</th>\n    </tr>\n  </thead>\n  <tbody>\n    <tr>\n      <th>0</th>\n      <td>World</td>\n      <td>324.5344016</td>\n      <td>334.5932663</td>\n      <td>347.6354523</td>\n      <td>352.3576472</td>\n      <td>358.9595455</td>\n      <td>352.2644272</td>\n      <td>351.0744285</td>\n      <td>353.9732567</td>\n      <td>357.8829972</td>\n      <td>...</td>\n      <td>493.091062</td>\n      <td>499.6972405</td>\n      <td>494.3132499</td>\n      <td>523.725112</td>\n      <td>538.7016471</td>\n      <td>550.8484054</td>\n      <td>561.7706158</td>\n      <td>567.0296292</td>\n      <td>570.0615279</td>\n      <td>573.9508257</td>\n    </tr>\n    <tr>\n      <th>1</th>\n      <td>Afghanistan</td>\n      <td>0.039111199</td>\n      <td>0.063065158</td>\n      <td>0.111220787</td>\n      <td>0.109364539</td>\n      <td>0.108320341</td>\n      <td>0.047438198</td>\n      <td>0.031281766</td>\n      <td>0.031068733</td>\n      <td>0.030081109</td>\n      <td>...</td>\n      <td>0.034254709</td>\n      <td>0.058526483</td>\n      <td>0.095348795</td>\n      <td>0.118538529</td>\n      <td>0.161050802</td>\n      <td>0.147607649</td>\n      <td>0.124017682</td>\n      <td>0.113619521</td>\n      <td>0.125483137</td>\n      <td>0.117133389</td>\n    </tr>\n    <tr>\n      <th>2</th>\n      <td>Albania</td>\n      <td>0.166075365</td>\n      <td>0.166640543</td>\n      <td>0.168590876</td>\n      <td>0.160340585</td>\n      <td>0.114845298</td>\n      <td>0.096323694</td>\n      <td>0.084191203</td>\n      <td>0.073833402</td>\n      <td>0.070178183</td>\n      <td>...</td>\n      <td>0.09682504</td>\n      <td>0.105744823</td>\n      <td>0.115070874</td>\n      <td>0.128327344</td>\n      <td>0.105875204</td>\n      <td>0.104431132</td>\n      <td>0.127732976</td>\n      <td>0.116326405</td>\n      <td>0.116576406</td>\n      <td>0.12436058</td>\n    </tr>\n    <tr>\n      <th>3</th>\n      <td>Algeria</td>\n      <td>1.073661264</td>\n      <td>1.148639374</td>\n      <td>1.222947634</td>\n      <td>1.18021525</td>\n      <td>1.212354841</td>\n      <td>1.354444964</td>\n      <td>1.30211942</td>\n      <td>1.197210337</td>\n      <td>1.233072137</td>\n      <td>...</td>\n      <td>1.558107806</td>\n      <td>1.68592524</td>\n      <td>1.783379231</td>\n      <td>1.777793483</td>\n      <td>1.938981898</td>\n      <td>2.099941293</td>\n      <td>2.039276069</td>\n      <td>2.30202481</td>\n      <td>2.354764812</td>\n      <td>2.337093871</td>\n    </tr>\n    <tr>\n      <th>4</th>\n      <td>American Samoa</td>\n      <td>0.006716584</td>\n      <td>0.006973009</td>\n      <td>0.006778814</td>\n      <td>0.007806191</td>\n      <td>0.008210538</td>\n      <td>0.008210538</td>\n      <td>0.008445519</td>\n      <td>0.008216196</td>\n      <td>0.008003583</td>\n      <td>...</td>\n      <td>0.008606956</td>\n      <td>0.008630536</td>\n      <td>0.008606956</td>\n      <td>0.008606956</td>\n      <td>0.004911509</td>\n      <td>0.004924966</td>\n      <td>0.004911509</td>\n      <td>0.004911509</td>\n      <td>0.004908811</td>\n      <td>0.004908869</td>\n    </tr>\n  </tbody>\n</table>\n<p>5 rows × 32 columns</p>\n</div>"
     },
     "metadata": {},
     "execution_count": 2
    }
   ],
   "source": [
    "# Use os.join.path so any OS can run this code\n",
    "file_path = os.path.join(\"..\", \"Resources\", \"energy consumption.csv\")\n",
    "\n",
    "# Read the csv into a data frame and display the first few rows\n",
    "energy_df = pd.read_csv(file_path)\n",
    "energy_df.head()"
   ]
  },
  {
   "cell_type": "code",
   "execution_count": 3,
   "metadata": {},
   "outputs": [],
   "source": [
    "# Create a funtion that accepts the start and end position of the rows where the data is located and the name of the source column that will be changed\n",
    "def split_csv(start, end, name):\n",
    "\n",
    "    # Get a list of the column names for each CSV\n",
    "    column = energy_df.columns\n",
    "\n",
    "    # Store the enery source column name as a variable to reference later\n",
    "    source_name = column[0]\n",
    "\n",
    "    # Create a new data frame\n",
    "    new_df = pd.DataFrame(columns=column)\n",
    "\n",
    "    # Locate the cells where the data is located and add it to the data frame\n",
    "    new_df = energy_df.iloc[start:end, :]\n",
    "\n",
    "    # Rename the energy source column name\n",
    "    new_df.rename(columns={source_name: name}, inplace=True)\n",
    "\n",
    "    # Strip and leading and trailing white spaces on country names\n",
    "    new_df[name] = new_df[name].str.strip()\n",
    "\n",
    "    # Return the data frame\n",
    "    return new_df"
   ]
  },
  {
   "cell_type": "code",
   "execution_count": 4,
   "metadata": {},
   "outputs": [],
   "source": [
    "# Call the function with the parameters we want for the new data frame\n",
    "total_df = split_csv(0,231,\"total energy consumption (quad Btu)\")\n",
    "\n",
    "# Save to a CSV\n",
    "total_df.to_csv(\"../Cleaned Data/total_consumption.csv\", index=False)"
   ]
  },
  {
   "cell_type": "code",
   "execution_count": 5,
   "metadata": {},
   "outputs": [],
   "source": [
    "# Call the function with the parameters we want for the new data frame\n",
    "coal_df = split_csv(232,463,\"total energy consumption from coal (quad Btu)\")\n",
    "\n",
    "# Save to a CSV\n",
    "coal_df.to_csv(\"../Cleaned Data/coal_consumption.csv\", index=False)"
   ]
  },
  {
   "cell_type": "code",
   "execution_count": 6,
   "metadata": {},
   "outputs": [],
   "source": [
    "# Call the function with the parameters we want for the new data frame\n",
    "natural_gas_df = split_csv(464,695,\"total energy consumption from natural gas (quad Btu\")\n",
    "\n",
    "# Save to a CSV\n",
    "natural_gas_df.to_csv(\"../Cleaned Data/natural_gas_consumption.csv\", index=False)"
   ]
  },
  {
   "cell_type": "code",
   "execution_count": 7,
   "metadata": {},
   "outputs": [],
   "source": [
    "# Call the function with the parameters we want for the new data frame\n",
    "petroleum_df = split_csv(696,927,\"total energy consumption from petroleum and other liquids (quad Btu)\")\n",
    "\n",
    "# Save to a CSV\n",
    "petroleum_df.to_csv(\"../Cleaned Data/petroleum_consumption.csv\", index=False)"
   ]
  },
  {
   "cell_type": "code",
   "execution_count": 8,
   "metadata": {},
   "outputs": [],
   "source": [
    "# Call the function with the parameters we want for the new data frame\n",
    "nuclear_df = split_csv(928,1159,\"total energy consumption from nuclear, renewables, and other (quad Btu)\")\n",
    "\n",
    "# Save to a CSV\n",
    "nuclear_df.to_csv(\"../Cleaned Data/nuclear_consumption.csv\", index=False)"
   ]
  },
  {
   "cell_type": "code",
   "execution_count": null,
   "metadata": {},
   "outputs": [],
   "source": []
  }
 ],
 "metadata": {
  "language_info": {
   "codemirror_mode": {
    "name": "ipython",
    "version": 3
   },
   "file_extension": ".py",
   "mimetype": "text/x-python",
   "name": "python",
   "nbconvert_exporter": "python",
   "pygments_lexer": "ipython3",
   "version": 3
  },
  "orig_nbformat": 2,
  "kernelspec": {
   "name": "python_defaultSpec_1594960710062",
   "display_name": "Python 3.6.10 64-bit ('PythonData': conda)"
  }
 },
 "nbformat": 4,
 "nbformat_minor": 2
}